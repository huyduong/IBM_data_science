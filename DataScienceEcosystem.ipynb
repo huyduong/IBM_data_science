{
 "cells": [
  {
   "cell_type": "markdown",
   "id": "15a791b7-036b-44ef-b59b-e2c28fc4af8c",
   "metadata": {},
   "source": [
    "# Data Science Tools and Ecosystem"
   ]
  },
  {
   "cell_type": "markdown",
   "id": "3873f8c9-184e-4ebc-8c47-2e198d235aa7",
   "metadata": {},
   "source": [
    "In this notebook, Data Science Tools and Ecosystem are summarized."
   ]
  },
  {
   "cell_type": "markdown",
   "id": "1349290e-0c14-4ea0-91c6-233e804f2811",
   "metadata": {},
   "source": [
    "**Objectives:**\n",
    "- List popular languages for Data Science\n",
    "- List of popular libraries for Data Science\n",
    "- Some introduction to Jupyter Notebook"
   ]
  },
  {
   "cell_type": "markdown",
   "id": "06b0ad47-c0fa-4b89-8fc8-0d8a27b2fcf0",
   "metadata": {},
   "source": [
    "**Author:**\n",
    "Quang Huy Duong"
   ]
  },
  {
   "cell_type": "markdown",
   "id": "bbe32b40-b03f-47f3-b81a-33cb537c3a26",
   "metadata": {},
   "source": [
    "Some of the popular languages that Data Scientists use are:\n",
    "1. Python\n",
    "2. R\n",
    "3. Julian"
   ]
  },
  {
   "cell_type": "markdown",
   "id": "8379d657-c30a-44cc-aa75-720f95d93edb",
   "metadata": {},
   "source": [
    "Some of the commonly used libraries used by Data Scientists include:\n",
    "1. Tensorflow\n",
    "2. Pandas\n",
    "3. Pytorch"
   ]
  },
  {
   "cell_type": "markdown",
   "id": "0f7c4a50-056a-4d2c-9840-4aef65384975",
   "metadata": {},
   "source": [
    "|Data Science Tools|\n",
    "|------------------|\n",
    "|GitHub|\n",
    "|Jupyter Notebooks|\n",
    "|RStudio IDE|"
   ]
  },
  {
   "cell_type": "markdown",
   "id": "93820b3e-4f9a-4146-9462-b422eb1c9472",
   "metadata": {},
   "source": [
    "### Below are a few examples of evaluating arithmetic expressions in Python"
   ]
  },
  {
   "cell_type": "code",
   "execution_count": 3,
   "id": "ec5facd5-ee8a-4614-850d-1576c0382c8d",
   "metadata": {},
   "outputs": [
    {
     "data": {
      "text/plain": [
       "17"
      ]
     },
     "execution_count": 3,
     "metadata": {},
     "output_type": "execute_result"
    }
   ],
   "source": [
    "# This a simple arithmetic expression to mutiply then add integers\n",
    "(3*4)+5"
   ]
  },
  {
   "cell_type": "code",
   "execution_count": 4,
   "id": "17d9e6cf-ff6f-495e-97a1-91dfb54340c4",
   "metadata": {},
   "outputs": [
    {
     "data": {
      "text/plain": [
       "3.3333333333333335"
      ]
     },
     "execution_count": 4,
     "metadata": {},
     "output_type": "execute_result"
    }
   ],
   "source": [
    "# This will convert 200 minutes to hours by diving by 60\n",
    "200 / 60"
   ]
  },
  {
   "cell_type": "code",
   "execution_count": null,
   "id": "0d5a4ec3-9f64-439c-9ba5-485215adbf08",
   "metadata": {},
   "outputs": [],
   "source": []
  },
  {
   "cell_type": "code",
   "execution_count": null,
   "id": "0539c7aa-de9d-4235-85fc-eb8eb50a9789",
   "metadata": {},
   "outputs": [],
   "source": []
  }
 ],
 "metadata": {
  "kernelspec": {
   "display_name": "Python",
   "language": "python",
   "name": "conda-env-python-py"
  },
  "language_info": {
   "codemirror_mode": {
    "name": "ipython",
    "version": 3
   },
   "file_extension": ".py",
   "mimetype": "text/x-python",
   "name": "python",
   "nbconvert_exporter": "python",
   "pygments_lexer": "ipython3",
   "version": "3.7.12"
  }
 },
 "nbformat": 4,
 "nbformat_minor": 5
}
